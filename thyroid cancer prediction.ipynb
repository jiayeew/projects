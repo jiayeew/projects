{
 "cells": [
  {
   "cell_type": "code",
   "execution_count": 1,
   "id": "f9d5b305",
   "metadata": {
    "_cell_guid": "b1076dfc-b9ad-4769-8c92-a6c4dae69d19",
    "_uuid": "8f2839f25d086af736a60e9eeb907d3b93b6e0e5",
    "execution": {
     "iopub.execute_input": "2025-02-04T05:18:22.300701Z",
     "iopub.status.busy": "2025-02-04T05:18:22.300286Z",
     "iopub.status.idle": "2025-02-04T05:18:24.529450Z",
     "shell.execute_reply": "2025-02-04T05:18:24.528456Z"
    },
    "papermill": {
     "duration": 2.236832,
     "end_time": "2025-02-04T05:18:24.531278",
     "exception": false,
     "start_time": "2025-02-04T05:18:22.294446",
     "status": "completed"
    },
    "tags": []
   },
   "outputs": [],
   "source": [
    "import pandas as pd\n",
    "import numpy as np\n",
    "import seaborn as sns\n",
    "import matplotlib.pyplot as plt "
   ]
  },
  {
   "cell_type": "code",
   "execution_count": 2,
   "id": "f0432b4a",
   "metadata": {
    "execution": {
     "iopub.execute_input": "2025-02-04T05:18:24.539098Z",
     "iopub.status.busy": "2025-02-04T05:18:24.538686Z",
     "iopub.status.idle": "2025-02-04T05:18:25.097260Z",
     "shell.execute_reply": "2025-02-04T05:18:25.096246Z"
    },
    "papermill": {
     "duration": 0.564146,
     "end_time": "2025-02-04T05:18:25.099053",
     "exception": false,
     "start_time": "2025-02-04T05:18:24.534907",
     "status": "completed"
    },
    "tags": []
   },
   "outputs": [],
   "source": [
    "from sklearn.model_selection import train_test_split\n",
    "from sklearn.preprocessing import StandardScaler, LabelEncoder\n",
    "from sklearn.ensemble import RandomForestClassifier\n",
    "from sklearn.metrics import accuracy_score, classification_report, confusion_matrix\n"
   ]
  },
  {
   "cell_type": "code",
   "execution_count": 3,
   "id": "21e0a331",
   "metadata": {
    "execution": {
     "iopub.execute_input": "2025-02-04T05:18:25.106775Z",
     "iopub.status.busy": "2025-02-04T05:18:25.106466Z",
     "iopub.status.idle": "2025-02-04T05:18:25.723307Z",
     "shell.execute_reply": "2025-02-04T05:18:25.722454Z"
    },
    "papermill": {
     "duration": 0.622702,
     "end_time": "2025-02-04T05:18:25.725170",
     "exception": false,
     "start_time": "2025-02-04T05:18:25.102468",
     "status": "completed"
    },
    "tags": []
   },
   "outputs": [],
   "source": [
    "# load dataset\n",
    "df = pd.read_csv(\"/kaggle/input/thyroid-cancer-risk-prediction-dataset/thyroid_cancer_risk_data.csv\")"
   ]
  },
  {
   "cell_type": "code",
   "execution_count": 4,
   "id": "612a9546",
   "metadata": {
    "execution": {
     "iopub.execute_input": "2025-02-04T05:18:25.732726Z",
     "iopub.status.busy": "2025-02-04T05:18:25.732407Z",
     "iopub.status.idle": "2025-02-04T05:18:25.894291Z",
     "shell.execute_reply": "2025-02-04T05:18:25.893296Z"
    },
    "papermill": {
     "duration": 0.167215,
     "end_time": "2025-02-04T05:18:25.895859",
     "exception": false,
     "start_time": "2025-02-04T05:18:25.728644",
     "status": "completed"
    },
    "tags": []
   },
   "outputs": [
    {
     "data": {
      "text/html": [
       "<div>\n",
       "<style scoped>\n",
       "    .dataframe tbody tr th:only-of-type {\n",
       "        vertical-align: middle;\n",
       "    }\n",
       "\n",
       "    .dataframe tbody tr th {\n",
       "        vertical-align: top;\n",
       "    }\n",
       "\n",
       "    .dataframe thead th {\n",
       "        text-align: right;\n",
       "    }\n",
       "</style>\n",
       "<table border=\"1\" class=\"dataframe\">\n",
       "  <thead>\n",
       "    <tr style=\"text-align: right;\">\n",
       "      <th></th>\n",
       "      <th>Patient_ID</th>\n",
       "      <th>Age</th>\n",
       "      <th>Gender</th>\n",
       "      <th>Country</th>\n",
       "      <th>Ethnicity</th>\n",
       "      <th>Family_History</th>\n",
       "      <th>Radiation_Exposure</th>\n",
       "      <th>Iodine_Deficiency</th>\n",
       "      <th>Smoking</th>\n",
       "      <th>Obesity</th>\n",
       "      <th>Diabetes</th>\n",
       "      <th>TSH_Level</th>\n",
       "      <th>T3_Level</th>\n",
       "      <th>T4_Level</th>\n",
       "      <th>Nodule_Size</th>\n",
       "      <th>Thyroid_Cancer_Risk</th>\n",
       "      <th>Diagnosis</th>\n",
       "    </tr>\n",
       "  </thead>\n",
       "  <tbody>\n",
       "    <tr>\n",
       "      <th>0</th>\n",
       "      <td>1</td>\n",
       "      <td>66</td>\n",
       "      <td>Male</td>\n",
       "      <td>Russia</td>\n",
       "      <td>Caucasian</td>\n",
       "      <td>No</td>\n",
       "      <td>Yes</td>\n",
       "      <td>No</td>\n",
       "      <td>No</td>\n",
       "      <td>No</td>\n",
       "      <td>No</td>\n",
       "      <td>9.37</td>\n",
       "      <td>1.67</td>\n",
       "      <td>6.16</td>\n",
       "      <td>1.08</td>\n",
       "      <td>Low</td>\n",
       "      <td>Benign</td>\n",
       "    </tr>\n",
       "    <tr>\n",
       "      <th>1</th>\n",
       "      <td>2</td>\n",
       "      <td>29</td>\n",
       "      <td>Male</td>\n",
       "      <td>Germany</td>\n",
       "      <td>Hispanic</td>\n",
       "      <td>No</td>\n",
       "      <td>Yes</td>\n",
       "      <td>No</td>\n",
       "      <td>No</td>\n",
       "      <td>No</td>\n",
       "      <td>No</td>\n",
       "      <td>1.83</td>\n",
       "      <td>1.73</td>\n",
       "      <td>10.54</td>\n",
       "      <td>4.05</td>\n",
       "      <td>Low</td>\n",
       "      <td>Benign</td>\n",
       "    </tr>\n",
       "    <tr>\n",
       "      <th>2</th>\n",
       "      <td>3</td>\n",
       "      <td>86</td>\n",
       "      <td>Male</td>\n",
       "      <td>Nigeria</td>\n",
       "      <td>Caucasian</td>\n",
       "      <td>No</td>\n",
       "      <td>No</td>\n",
       "      <td>No</td>\n",
       "      <td>No</td>\n",
       "      <td>No</td>\n",
       "      <td>No</td>\n",
       "      <td>6.26</td>\n",
       "      <td>2.59</td>\n",
       "      <td>10.57</td>\n",
       "      <td>4.61</td>\n",
       "      <td>Low</td>\n",
       "      <td>Benign</td>\n",
       "    </tr>\n",
       "    <tr>\n",
       "      <th>3</th>\n",
       "      <td>4</td>\n",
       "      <td>75</td>\n",
       "      <td>Female</td>\n",
       "      <td>India</td>\n",
       "      <td>Asian</td>\n",
       "      <td>No</td>\n",
       "      <td>No</td>\n",
       "      <td>No</td>\n",
       "      <td>No</td>\n",
       "      <td>No</td>\n",
       "      <td>No</td>\n",
       "      <td>4.10</td>\n",
       "      <td>2.62</td>\n",
       "      <td>11.04</td>\n",
       "      <td>2.46</td>\n",
       "      <td>Medium</td>\n",
       "      <td>Benign</td>\n",
       "    </tr>\n",
       "    <tr>\n",
       "      <th>4</th>\n",
       "      <td>5</td>\n",
       "      <td>35</td>\n",
       "      <td>Female</td>\n",
       "      <td>Germany</td>\n",
       "      <td>African</td>\n",
       "      <td>Yes</td>\n",
       "      <td>Yes</td>\n",
       "      <td>No</td>\n",
       "      <td>No</td>\n",
       "      <td>No</td>\n",
       "      <td>No</td>\n",
       "      <td>9.10</td>\n",
       "      <td>2.11</td>\n",
       "      <td>10.71</td>\n",
       "      <td>2.11</td>\n",
       "      <td>High</td>\n",
       "      <td>Benign</td>\n",
       "    </tr>\n",
       "  </tbody>\n",
       "</table>\n",
       "</div>"
      ],
      "text/plain": [
       "   Patient_ID  Age  Gender  Country  Ethnicity Family_History  \\\n",
       "0           1   66    Male   Russia  Caucasian             No   \n",
       "1           2   29    Male  Germany   Hispanic             No   \n",
       "2           3   86    Male  Nigeria  Caucasian             No   \n",
       "3           4   75  Female    India      Asian             No   \n",
       "4           5   35  Female  Germany    African            Yes   \n",
       "\n",
       "  Radiation_Exposure Iodine_Deficiency Smoking Obesity Diabetes  TSH_Level  \\\n",
       "0                Yes                No      No      No       No       9.37   \n",
       "1                Yes                No      No      No       No       1.83   \n",
       "2                 No                No      No      No       No       6.26   \n",
       "3                 No                No      No      No       No       4.10   \n",
       "4                Yes                No      No      No       No       9.10   \n",
       "\n",
       "   T3_Level  T4_Level  Nodule_Size Thyroid_Cancer_Risk Diagnosis  \n",
       "0      1.67      6.16         1.08                 Low    Benign  \n",
       "1      1.73     10.54         4.05                 Low    Benign  \n",
       "2      2.59     10.57         4.61                 Low    Benign  \n",
       "3      2.62     11.04         2.46              Medium    Benign  \n",
       "4      2.11     10.71         2.11                High    Benign  "
      ]
     },
     "metadata": {},
     "output_type": "display_data"
    },
    {
     "name": "stdout",
     "output_type": "stream",
     "text": [
      "<class 'pandas.core.frame.DataFrame'>\n",
      "RangeIndex: 212691 entries, 0 to 212690\n",
      "Data columns (total 17 columns):\n",
      " #   Column               Non-Null Count   Dtype  \n",
      "---  ------               --------------   -----  \n",
      " 0   Patient_ID           212691 non-null  int64  \n",
      " 1   Age                  212691 non-null  int64  \n",
      " 2   Gender               212691 non-null  object \n",
      " 3   Country              212691 non-null  object \n",
      " 4   Ethnicity            212691 non-null  object \n",
      " 5   Family_History       212691 non-null  object \n",
      " 6   Radiation_Exposure   212691 non-null  object \n",
      " 7   Iodine_Deficiency    212691 non-null  object \n",
      " 8   Smoking              212691 non-null  object \n",
      " 9   Obesity              212691 non-null  object \n",
      " 10  Diabetes             212691 non-null  object \n",
      " 11  TSH_Level            212691 non-null  float64\n",
      " 12  T3_Level             212691 non-null  float64\n",
      " 13  T4_Level             212691 non-null  float64\n",
      " 14  Nodule_Size          212691 non-null  float64\n",
      " 15  Thyroid_Cancer_Risk  212691 non-null  object \n",
      " 16  Diagnosis            212691 non-null  object \n",
      "dtypes: float64(4), int64(2), object(11)\n",
      "memory usage: 27.6+ MB\n"
     ]
    },
    {
     "data": {
      "text/plain": [
       "None"
      ]
     },
     "metadata": {},
     "output_type": "display_data"
    }
   ],
   "source": [
    "# basic info\n",
    "display (df.head())\n",
    "display (df.info())"
   ]
  },
  {
   "cell_type": "code",
   "execution_count": 5,
   "id": "a26b7162",
   "metadata": {
    "execution": {
     "iopub.execute_input": "2025-02-04T05:18:25.903983Z",
     "iopub.status.busy": "2025-02-04T05:18:25.903704Z",
     "iopub.status.idle": "2025-02-04T05:18:26.035821Z",
     "shell.execute_reply": "2025-02-04T05:18:26.034947Z"
    },
    "papermill": {
     "duration": 0.137966,
     "end_time": "2025-02-04T05:18:26.037489",
     "exception": false,
     "start_time": "2025-02-04T05:18:25.899523",
     "status": "completed"
    },
    "tags": []
   },
   "outputs": [],
   "source": [
    "# handle missing values \n",
    "df.dropna(inplace=True)"
   ]
  },
  {
   "cell_type": "code",
   "execution_count": 6,
   "id": "81284b8b",
   "metadata": {
    "execution": {
     "iopub.execute_input": "2025-02-04T05:18:26.045803Z",
     "iopub.status.busy": "2025-02-04T05:18:26.045504Z",
     "iopub.status.idle": "2025-02-04T05:18:26.512264Z",
     "shell.execute_reply": "2025-02-04T05:18:26.511334Z"
    },
    "papermill": {
     "duration": 0.472795,
     "end_time": "2025-02-04T05:18:26.514065",
     "exception": false,
     "start_time": "2025-02-04T05:18:26.041270",
     "status": "completed"
    },
    "tags": []
   },
   "outputs": [],
   "source": [
    "# encode categorical variables\n",
    "label_encoders = {}\n",
    "for col in ['Gender', 'Country', 'Ethnicity', 'Family_History', 'Radiation_Exposure', 'Iodine_Deficiency', 'Smoking', 'Obesity', 'Diabetes', 'Thyroid_Cancer_Risk', 'Diagnosis']:\n",
    "    le = LabelEncoder()\n",
    "    df[col] = le.fit_transform(df[col])\n",
    "    label_encoders[col] = le  # Store encoders if needed later\n"
   ]
  },
  {
   "cell_type": "code",
   "execution_count": 7,
   "id": "3bc4f9ab",
   "metadata": {
    "execution": {
     "iopub.execute_input": "2025-02-04T05:18:26.522441Z",
     "iopub.status.busy": "2025-02-04T05:18:26.522111Z",
     "iopub.status.idle": "2025-02-04T05:18:26.540034Z",
     "shell.execute_reply": "2025-02-04T05:18:26.539198Z"
    },
    "papermill": {
     "duration": 0.023812,
     "end_time": "2025-02-04T05:18:26.541685",
     "exception": false,
     "start_time": "2025-02-04T05:18:26.517873",
     "status": "completed"
    },
    "tags": []
   },
   "outputs": [],
   "source": [
    "#seperate feature & target assuming 'Diagonis' is target\n",
    "X = df.drop(columns=['Diagnosis'])\n",
    "y = df['Diagnosis']"
   ]
  },
  {
   "cell_type": "code",
   "execution_count": 8,
   "id": "75bab4b7",
   "metadata": {
    "execution": {
     "iopub.execute_input": "2025-02-04T05:18:26.550020Z",
     "iopub.status.busy": "2025-02-04T05:18:26.549704Z",
     "iopub.status.idle": "2025-02-04T05:18:26.626385Z",
     "shell.execute_reply": "2025-02-04T05:18:26.625523Z"
    },
    "papermill": {
     "duration": 0.082699,
     "end_time": "2025-02-04T05:18:26.628115",
     "exception": false,
     "start_time": "2025-02-04T05:18:26.545416",
     "status": "completed"
    },
    "tags": []
   },
   "outputs": [],
   "source": [
    "#split data\n",
    "X_train, X_test, y_train, y_test = train_test_split(X, y, test_size = 0.2, random_state = 42)"
   ]
  },
  {
   "cell_type": "code",
   "execution_count": 9,
   "id": "45b053fb",
   "metadata": {
    "execution": {
     "iopub.execute_input": "2025-02-04T05:18:26.636745Z",
     "iopub.status.busy": "2025-02-04T05:18:26.636439Z",
     "iopub.status.idle": "2025-02-04T05:18:26.695878Z",
     "shell.execute_reply": "2025-02-04T05:18:26.694911Z"
    },
    "papermill": {
     "duration": 0.065662,
     "end_time": "2025-02-04T05:18:26.697747",
     "exception": false,
     "start_time": "2025-02-04T05:18:26.632085",
     "status": "completed"
    },
    "tags": []
   },
   "outputs": [],
   "source": [
    "#standardize numerical feature\n",
    "scaler = StandardScaler()\n",
    "num_cols = ['Age', 'TSH_Level', 'T3_Level', 'T4_Level', 'Nodule_Size']\n",
    "X_train[num_cols] = scaler.fit_transform(X_train[num_cols])\n",
    "X_test[num_cols] = scaler.transform(X_test[num_cols])"
   ]
  },
  {
   "cell_type": "code",
   "execution_count": 10,
   "id": "edf0656a",
   "metadata": {
    "execution": {
     "iopub.execute_input": "2025-02-04T05:18:26.706521Z",
     "iopub.status.busy": "2025-02-04T05:18:26.706067Z",
     "iopub.status.idle": "2025-02-04T05:19:19.285463Z",
     "shell.execute_reply": "2025-02-04T05:19:19.284255Z"
    },
    "papermill": {
     "duration": 52.588547,
     "end_time": "2025-02-04T05:19:19.290261",
     "exception": false,
     "start_time": "2025-02-04T05:18:26.701714",
     "status": "completed"
    },
    "tags": []
   },
   "outputs": [
    {
     "data": {
      "text/html": [
       "<style>#sk-container-id-1 {color: black;background-color: white;}#sk-container-id-1 pre{padding: 0;}#sk-container-id-1 div.sk-toggleable {background-color: white;}#sk-container-id-1 label.sk-toggleable__label {cursor: pointer;display: block;width: 100%;margin-bottom: 0;padding: 0.3em;box-sizing: border-box;text-align: center;}#sk-container-id-1 label.sk-toggleable__label-arrow:before {content: \"▸\";float: left;margin-right: 0.25em;color: #696969;}#sk-container-id-1 label.sk-toggleable__label-arrow:hover:before {color: black;}#sk-container-id-1 div.sk-estimator:hover label.sk-toggleable__label-arrow:before {color: black;}#sk-container-id-1 div.sk-toggleable__content {max-height: 0;max-width: 0;overflow: hidden;text-align: left;background-color: #f0f8ff;}#sk-container-id-1 div.sk-toggleable__content pre {margin: 0.2em;color: black;border-radius: 0.25em;background-color: #f0f8ff;}#sk-container-id-1 input.sk-toggleable__control:checked~div.sk-toggleable__content {max-height: 200px;max-width: 100%;overflow: auto;}#sk-container-id-1 input.sk-toggleable__control:checked~label.sk-toggleable__label-arrow:before {content: \"▾\";}#sk-container-id-1 div.sk-estimator input.sk-toggleable__control:checked~label.sk-toggleable__label {background-color: #d4ebff;}#sk-container-id-1 div.sk-label input.sk-toggleable__control:checked~label.sk-toggleable__label {background-color: #d4ebff;}#sk-container-id-1 input.sk-hidden--visually {border: 0;clip: rect(1px 1px 1px 1px);clip: rect(1px, 1px, 1px, 1px);height: 1px;margin: -1px;overflow: hidden;padding: 0;position: absolute;width: 1px;}#sk-container-id-1 div.sk-estimator {font-family: monospace;background-color: #f0f8ff;border: 1px dotted black;border-radius: 0.25em;box-sizing: border-box;margin-bottom: 0.5em;}#sk-container-id-1 div.sk-estimator:hover {background-color: #d4ebff;}#sk-container-id-1 div.sk-parallel-item::after {content: \"\";width: 100%;border-bottom: 1px solid gray;flex-grow: 1;}#sk-container-id-1 div.sk-label:hover label.sk-toggleable__label {background-color: #d4ebff;}#sk-container-id-1 div.sk-serial::before {content: \"\";position: absolute;border-left: 1px solid gray;box-sizing: border-box;top: 0;bottom: 0;left: 50%;z-index: 0;}#sk-container-id-1 div.sk-serial {display: flex;flex-direction: column;align-items: center;background-color: white;padding-right: 0.2em;padding-left: 0.2em;position: relative;}#sk-container-id-1 div.sk-item {position: relative;z-index: 1;}#sk-container-id-1 div.sk-parallel {display: flex;align-items: stretch;justify-content: center;background-color: white;position: relative;}#sk-container-id-1 div.sk-item::before, #sk-container-id-1 div.sk-parallel-item::before {content: \"\";position: absolute;border-left: 1px solid gray;box-sizing: border-box;top: 0;bottom: 0;left: 50%;z-index: -1;}#sk-container-id-1 div.sk-parallel-item {display: flex;flex-direction: column;z-index: 1;position: relative;background-color: white;}#sk-container-id-1 div.sk-parallel-item:first-child::after {align-self: flex-end;width: 50%;}#sk-container-id-1 div.sk-parallel-item:last-child::after {align-self: flex-start;width: 50%;}#sk-container-id-1 div.sk-parallel-item:only-child::after {width: 0;}#sk-container-id-1 div.sk-dashed-wrapped {border: 1px dashed gray;margin: 0 0.4em 0.5em 0.4em;box-sizing: border-box;padding-bottom: 0.4em;background-color: white;}#sk-container-id-1 div.sk-label label {font-family: monospace;font-weight: bold;display: inline-block;line-height: 1.2em;}#sk-container-id-1 div.sk-label-container {text-align: center;}#sk-container-id-1 div.sk-container {/* jupyter's `normalize.less` sets `[hidden] { display: none; }` but bootstrap.min.css set `[hidden] { display: none !important; }` so we also need the `!important` here to be able to override the default hidden behavior on the sphinx rendered scikit-learn.org. See: https://github.com/scikit-learn/scikit-learn/issues/21755 */display: inline-block !important;position: relative;}#sk-container-id-1 div.sk-text-repr-fallback {display: none;}</style><div id=\"sk-container-id-1\" class=\"sk-top-container\"><div class=\"sk-text-repr-fallback\"><pre>RandomForestClassifier(random_state=42)</pre><b>In a Jupyter environment, please rerun this cell to show the HTML representation or trust the notebook. <br />On GitHub, the HTML representation is unable to render, please try loading this page with nbviewer.org.</b></div><div class=\"sk-container\" hidden><div class=\"sk-item\"><div class=\"sk-estimator sk-toggleable\"><input class=\"sk-toggleable__control sk-hidden--visually\" id=\"sk-estimator-id-1\" type=\"checkbox\" checked><label for=\"sk-estimator-id-1\" class=\"sk-toggleable__label sk-toggleable__label-arrow\">RandomForestClassifier</label><div class=\"sk-toggleable__content\"><pre>RandomForestClassifier(random_state=42)</pre></div></div></div></div></div>"
      ],
      "text/plain": [
       "RandomForestClassifier(random_state=42)"
      ]
     },
     "execution_count": 10,
     "metadata": {},
     "output_type": "execute_result"
    }
   ],
   "source": [
    "# train random forest classifier\n",
    "classifier = RandomForestClassifier(n_estimators=100, random_state=42)\n",
    "classifier.fit(X_train, y_train)"
   ]
  },
  {
   "cell_type": "code",
   "execution_count": 11,
   "id": "69fc3f7e",
   "metadata": {
    "execution": {
     "iopub.execute_input": "2025-02-04T05:19:19.298943Z",
     "iopub.status.busy": "2025-02-04T05:19:19.298645Z",
     "iopub.status.idle": "2025-02-04T05:19:20.931482Z",
     "shell.execute_reply": "2025-02-04T05:19:20.930435Z"
    },
    "papermill": {
     "duration": 1.639231,
     "end_time": "2025-02-04T05:19:20.933329",
     "exception": false,
     "start_time": "2025-02-04T05:19:19.294098",
     "status": "completed"
    },
    "tags": []
   },
   "outputs": [],
   "source": [
    "# prediction\n",
    "y_pred = classifier.predict(X_test)"
   ]
  },
  {
   "cell_type": "code",
   "execution_count": 12,
   "id": "81e95d2c",
   "metadata": {
    "execution": {
     "iopub.execute_input": "2025-02-04T05:19:20.942689Z",
     "iopub.status.busy": "2025-02-04T05:19:20.942317Z",
     "iopub.status.idle": "2025-02-04T05:19:21.020538Z",
     "shell.execute_reply": "2025-02-04T05:19:21.019387Z"
    },
    "papermill": {
     "duration": 0.084551,
     "end_time": "2025-02-04T05:19:21.022155",
     "exception": false,
     "start_time": "2025-02-04T05:19:20.937604",
     "status": "completed"
    },
    "tags": []
   },
   "outputs": [
    {
     "name": "stdout",
     "output_type": "stream",
     "text": [
      "Accuracy: 0.8245\n",
      "              precision    recall  f1-score   support\n",
      "\n",
      "           0       0.85      0.94      0.89     32615\n",
      "           1       0.69      0.44      0.54      9924\n",
      "\n",
      "    accuracy                           0.82     42539\n",
      "   macro avg       0.77      0.69      0.72     42539\n",
      "weighted avg       0.81      0.82      0.81     42539\n",
      "\n"
     ]
    }
   ],
   "source": [
    "# evaluate\n",
    "accuracy = accuracy_score(y_test, y_pred)\n",
    "print(f'Accuracy: {accuracy:.4f}')\n",
    "print(classification_report(y_test, y_pred))\n"
   ]
  },
  {
   "cell_type": "code",
   "execution_count": 13,
   "id": "b41dba1d",
   "metadata": {
    "execution": {
     "iopub.execute_input": "2025-02-04T05:19:21.031171Z",
     "iopub.status.busy": "2025-02-04T05:19:21.030865Z",
     "iopub.status.idle": "2025-02-04T05:19:21.310440Z",
     "shell.execute_reply": "2025-02-04T05:19:21.309428Z"
    },
    "papermill": {
     "duration": 0.285741,
     "end_time": "2025-02-04T05:19:21.312000",
     "exception": false,
     "start_time": "2025-02-04T05:19:21.026259",
     "status": "completed"
    },
    "tags": []
   },
   "outputs": [
    {
     "data": {
      "image/png": "[encoded data removed]",
      "text/plain": [
       "<Figure size 600x500 with 2 Axes>"
      ]
     },
     "metadata": {},
     "output_type": "display_data"
    }
   ],
   "source": [
    "# plot confusion matrix\n",
    "plt.figure(figsize=(6, 5))\n",
    "sns.heatmap(confusion_matrix(y_test, y_pred), annot=True, fmt='d', cmap='Blues', xticklabels=[0, 1], yticklabels=[0, 1])\n",
    "plt.xlabel('Predicted')\n",
    "plt.ylabel('Actual')\n",
    "plt.title('Confusion Matrix')\n",
    "plt.show()"
   ]
  }
 ],
 "metadata": {
  "kaggle": {
   "accelerator": "none",
   "dataSources": [
    {
     "datasetId": 6595810,
     "sourceId": 10651737,
     "sourceType": "datasetVersion"
    }
   ],
   "dockerImageVersionId": 30839,
   "isGpuEnabled": false,
   "isInternetEnabled": false,
   "language": "python",
   "sourceType": "notebook"
  },
  "kernelspec": {
   "display_name": "Python 3",
   "language": "python",
   "name": "python3"
  },
  "language_info": {
   "codemirror_mode": {
    "name": "ipython",
    "version": 3
   },
   "file_extension": ".py",
   "mimetype": "text/x-python",
   "name": "python",
   "nbconvert_exporter": "python",
   "pygments_lexer": "ipython3",
   "version": "3.10.12"
  },
  "papermill": {
   "default_parameters": {},
   "duration": 62.300928,
   "end_time": "2025-02-04T05:19:22.035588",
   "environment_variables": {},
   "exception": null,
   "input_path": "__notebook__.ipynb",
   "output_path": "__notebook__.ipynb",
   "parameters": {},
   "start_time": "2025-02-04T05:18:19.734660",
   "version": "2.6.0"
  }
 },
 "nbformat": 4,
 "nbformat_minor": 5
}
